{
 "cells": [
  {
   "cell_type": "code",
   "execution_count": 20,
   "metadata": {},
   "outputs": [],
   "source": [
    "%alias nb_convert /Users/aaronciuffo/bin/develtools/nbconvert math.ipynb"
   ]
  },
  {
   "cell_type": "code",
   "execution_count": 21,
   "metadata": {},
   "outputs": [
    {
     "name": "stdout",
     "output_type": "stream",
     "text": [
      "/Users/aaronciuffo/bin/develtools/nbconvert, math.ipynb,\n",
      "[NbConvertApp] Converting notebook math.ipynb to python\n"
     ]
    }
   ],
   "source": [
    "%nb_convert"
   ]
  },
  {
   "cell_type": "code",
   "execution_count": 1,
   "metadata": {},
   "outputs": [],
   "source": [
    "import logging"
   ]
  },
  {
   "cell_type": "code",
   "execution_count": 2,
   "metadata": {},
   "outputs": [],
   "source": [
    "logger = logging.getLogger(__name__)\n",
    "# logging.basicConfig(level=logging.DEBUG, format='%(asctime)s %(name)s:%(funcName)s %(levelname)s:%(message)s',\n",
    "#                    datefmt='%Y.%m.%d %H:%M.%S')"
   ]
  },
  {
   "cell_type": "code",
   "execution_count": 7,
   "metadata": {},
   "outputs": [],
   "source": [
    "class adder():\n",
    "    # sample doc string for init\n",
    "    def __init__(self, vals=None):\n",
    "        '''Add n numbers and return the value\n",
    "\n",
    "        Properties:\n",
    "            values(`list`): list of values'''\n",
    "        self.vals = vals\n",
    "        \n",
    "    \n",
    "    # use **logger** instead of logging -- this ensures that the messages are sent through any logging\n",
    "    # handlers that are defined in the application that uses this module\n",
    "    \n",
    "    # example property getter/setter decoration\n",
    "    @property\n",
    "    def vals(self):\n",
    "        '''set the values to be added and check type\n",
    "        \n",
    "        Args:\n",
    "            vals(`list` of `int` or `float`): list of values\n",
    "            \n",
    "        Rasises:\n",
    "            TypeError: vals must be of type `list` of type `int` or `tuple`'''\n",
    "        return self._vals\n",
    "    \n",
    "    @vals.setter\n",
    "    def vals(self, values):\n",
    "        if not values:\n",
    "            logging.warning('no values were set. Setting to default of []')\n",
    "            values = []\n",
    "        logger.debug(f'values: {values}')\n",
    "        logger.debug('checking type of `vals`')\n",
    "        if not isinstance(values, (list, tuple)):\n",
    "            raise TypeError(f'bad data type; must be of type list or tuple')\n",
    "        logger.info('checking each value for type')\n",
    "        for each in values:\n",
    "            logger.debug(f'checking: {each}')\n",
    "            if not isinstance(each, (int, float)):\n",
    "                raise TypeError(f'{each} is not of type int or float')\n",
    "            logger.debug('ok')\n",
    "        \n",
    "        self._vals = values\n",
    "    \n",
    "    def answer(self):\n",
    "        '''Add the values in the list and return the answer\n",
    "        \n",
    "        Retruns: \n",
    "            sum of vals'''\n",
    "        logger.info('getting total')\n",
    "        total = 0\n",
    "        logger.debug('adding each value')\n",
    "        for each in self.vals:\n",
    "            total = total + each\n",
    "            logger.debug(f'running total: {total}')\n",
    "        \n",
    "        return total"
   ]
  },
  {
   "cell_type": "code",
   "execution_count": 8,
   "metadata": {},
   "outputs": [
    {
     "name": "stderr",
     "output_type": "stream",
     "text": [
      "2020.06.30 12:08.22 __main__:vals DEBUG:values: []\n",
      "2020.06.30 12:08.22 __main__:vals DEBUG:checking type of `vals`\n",
      "2020.06.30 12:08.22 __main__:vals INFO:checking each value for type\n"
     ]
    }
   ],
   "source": [
    "# a = adder()\n",
    "\n",
    "# a.vals = [1, 4, 6, 77, 2.3]\n",
    "\n",
    "# a.answer()"
   ]
  },
  {
   "cell_type": "code",
   "execution_count": null,
   "metadata": {},
   "outputs": [],
   "source": []
  }
 ],
 "metadata": {
  "kernelspec": {
   "display_name": "Python 3",
   "language": "python",
   "name": "python3"
  },
  "language_info": {
   "codemirror_mode": {
    "name": "ipython",
    "version": 3
   },
   "file_extension": ".py",
   "mimetype": "text/x-python",
   "name": "python",
   "nbconvert_exporter": "python",
   "pygments_lexer": "ipython3",
   "version": "3.7.7"
  }
 },
 "nbformat": 4,
 "nbformat_minor": 2
}
