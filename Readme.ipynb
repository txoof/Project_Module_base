{
 "cells": [
  {
   "cell_type": "markdown",
   "metadata": {},
   "source": [
    "# Project and Module Base\n",
    "\n",
    "Good base practices for creating modules and setting up a project"
   ]
  },
  {
   "cell_type": "markdown",
   "metadata": {},
   "source": [
    "## Logging\n",
    "Logging is handled by a root logger and child loggers that are attached to the root logger.\n",
    "\n",
    "Each module should configure it's own logger; each program should configure it's own logger and then manage\n",
    "logging from child modules.\n",
    "\n",
    "### Modules\n",
    "These will become child loggers of the root logger from the main program\n",
    "* Create modules in a sub directory\n",
    "* Create a global logger for each module: `logger = logging.getLogger(__name__)`\n",
    "    * Make logging calls as such: `logger.info('This is a message')`\n",
    "        * This will ensure that any program that uses this module will receive the logging messages \n",
    "        from this logger\n",
    "\n",
    "### Main Program\n",
    "The main program will create the root logger and attach all modules as child loggers\n",
    "* Configure the basic logger configuration at the global level:\n",
    "```\n",
    "logging.basicConfig(level=logging.INFO, \n",
    "               format='%(asctime)s %(name)s:%(funcName)s %(levelname)s:%(message)s',\n",
    "               datefmt='%Y.%m.%d %H:%M.%S')\n",
    "```\n",
    "    * setting this at the global level makes it tidier when developing in Jupyter as it does not \n",
    "    attempt to reconfigure the basicConfig over and over (this **should** have no affect, but Jupyter does not\n",
    "    always handle this well).\n",
    "* Within the `main()` function, set the logging levels for the ROOT and LOCAL loggers:\n",
    "\n",
    "```\n",
    "    def main():\n",
    "        # set a local logger for this program\n",
    "        logger = logging.getLogger(__name__)\n",
    "\n",
    "        # set the log level for the root logger - this will affect all of the other child loggers\n",
    "        # that are pulled from other modules loaded through imports, but NOT the local logger\n",
    "        logger.root.setLevel('WARNING')\n",
    "\n",
    "        # set the log level for this particular logger\n",
    "        logger.setLevel('DEBUG')\n",
    "```\n",
    "\n",
    "Example Output:\n",
    "```\n",
    "# this log line comes from the local logger and is affected by logger.setLevel()\n",
    "2020.06.30 13:37.15 LOGGER:__main__ FUNC:main DEBUG:creating adder\n",
    "# this log line comes from a loaded module and is affected by the root logger: logger.root.setLevel()\n",
    "2020.06.30 13:37.15 LOGGER:root FUNC:vals WARNING:no values were set. Setting to default of []\n",
    "# this comes from the local logger\n",
    "2020.06.30 13:37.15 LOGGER:__main__ FUNC:main INFO:getting ready to set some numbers: [1, 345, 23, 3.4, 66, 1, -100]\n",
    "```"
   ]
  },
  {
   "cell_type": "code",
   "execution_count": 3,
   "metadata": {},
   "outputs": [
    {
     "name": "stdout",
     "output_type": "stream",
     "text": [
      "[NbConvertApp] Converting notebook Readme.ipynb to markdown\r\n"
     ]
    }
   ],
   "source": [
    "%alias md_convert /Users/aaronciuffo/bin/develtools/mdconvert Readme.ipynb\n",
    "%md_convert"
   ]
  }
 ],
 "metadata": {
  "kernelspec": {
   "display_name": "Python 3",
   "language": "python",
   "name": "python3"
  },
  "language_info": {
   "codemirror_mode": {
    "name": "ipython",
    "version": 3
   },
   "file_extension": ".py",
   "mimetype": "text/x-python",
   "name": "python",
   "nbconvert_exporter": "python",
   "pygments_lexer": "ipython3",
   "version": "3.7.7"
  }
 },
 "nbformat": 4,
 "nbformat_minor": 2
}
