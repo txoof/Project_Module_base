{
 "cells": [
  {
   "cell_type": "code",
   "execution_count": 1,
   "metadata": {},
   "outputs": [],
   "source": [
    "import logging\n",
    "from logging import config\n",
    "from pathlib import Path"
   ]
  },
  {
   "cell_type": "code",
   "execution_count": 2,
   "metadata": {},
   "outputs": [],
   "source": [
    "from logging import handlers"
   ]
  },
  {
   "cell_type": "code",
   "execution_count": 3,
   "metadata": {},
   "outputs": [],
   "source": [
    "# most basic configuration of the logger \n",
    "# logging.basicConfig(level=logging.DEBUG, \n",
    "#                     format='%(asctime)s LOGGER:%(name)s FUNC:%(funcName)s %(levelname)s:%(message)s',\n",
    "#                     datefmt='%Y.%m.%d %H:%M.%S')\n",
    "\n",
    "# logging using a configuration file\n",
    "log = Path('~/foo.log').expanduser()\n",
    "# `log` file variable is passed in the defaults kwargs dictionary\n",
    "# configuration file is stored in ./log_cfg.ini\n",
    "logging.config.fileConfig('./log_cfg.ini', disable_existing_loggers=False, defaults={'logfile': log})\n",
    "\n"
   ]
  },
  {
   "cell_type": "code",
   "execution_count": 4,
   "metadata": {},
   "outputs": [],
   "source": [
    "from module_a import my_math"
   ]
  },
  {
   "cell_type": "code",
   "execution_count": 5,
   "metadata": {},
   "outputs": [],
   "source": [
    "def helper_func():\n",
    "    # use logging, NOT logger here; this will pass through the logger set in the main() function\n",
    "    logging.error('This is an error')\n",
    "    logging.warning('this is a warning')\n",
    "    logging.info('this is an info')\n",
    "    logging.debug('this is a debug')\n",
    "    return False"
   ]
  },
  {
   "cell_type": "code",
   "execution_count": 10,
   "metadata": {},
   "outputs": [],
   "source": [
    "def adjust_handler(handler=None, new_level=None):\n",
    "    if not handler:\n",
    "        return(logging.getLogger().handlers)\n",
    "    my_handler = None\n",
    "    for index, val in enumerate(logging.getLogger().handlers):\n",
    "        if handler in str(val):\n",
    "            my_handler = logging.getLogger().handlers[index]\n",
    "    if my_handler:\n",
    "        logging.info(f'setting {str(my_handler)} to {new_level}')\n",
    "        my_handler.setLevel(new_level)\n",
    "    else:\n",
    "        logging.warning(f'handler: \"{handler}\" not found')\n",
    "        \n",
    "    return my_handler"
   ]
  },
  {
   "cell_type": "code",
   "execution_count": 19,
   "metadata": {},
   "outputs": [],
   "source": [
    "def main():\n",
    "    \n",
    "    # set a logger for this program\n",
    "    logger = logging.getLogger(__name__)\n",
    "    \n",
    "    # set the local logger to 'DEBUG'\n",
    "    logger.setLevel('DEBUG')\n",
    "\n",
    "    # adjust one of the handlers attached to the root handler\n",
    "    adjust_handler('File', 'DEBUG')\n",
    "    \n",
    "    logging.warning('warnings should appear in the file log now')\n",
    "    logging.debug('debug should skip the file log')\n",
    "\n",
    "    \n",
    "    # set the log level for the root logger - this will affect all of the other child loggers\n",
    "    # that are pulled from other modules loaded through imports\n",
    "    logger.root.setLevel('WARNING')   \n",
    "    \n",
    "    # call a helper function with it's own logging statements\n",
    "    helper_func()\n",
    "    \n",
    "    logger.debug('starting up')\n",
    "    logging.info('calling a helper...')\n",
    "    \n",
    "    logging.debug('starting up (this will only print if the root logger is set to \"debug\")')\n",
    "    \n",
    "    # send log messages to the logger for this program\n",
    "    logger.info('this should display at info level or higher')\n",
    "    \n",
    "    nums = [1, 345, 23, 3.4, 66, 1, -100]\n",
    "    logger.debug(f'creating adder')\n",
    "    adder = my_math.adder()\n",
    "    logger.info(f'getting ready to set some numbers: {nums}')\n",
    "    adder.vals = nums\n",
    "    logger.debug('getting ready to print answer')\n",
    "    print(adder.answer())\n",
    "    \n",
    "    logger.error('*'*50)\n",
    "    print('\\n'*3)\n",
    "    logger.error('do the same thing again, but change the root logger to \"DEBUG\" and the local logger to \"WARNING\"')\n",
    "    logger.root.setLevel(\"DEBUG\")\n",
    "    logger.setLevel(\"WARNING\")\n",
    "    \n",
    "    logger.debug('starting up')\n",
    "    logging.debug('starting up (this will only print if the root logger is set to \"debug\")')\n",
    "    \n",
    "    # send log messages to the logger for this program\n",
    "    logger.info('this should display at info level or higher')\n",
    "    \n",
    "    nums = [1, 345, 23, 3.4, 66, 1, -100]\n",
    "    logger.debug(f'creating adder')\n",
    "    adder = my_math.adder()\n",
    "    logger.info(f'getting ready to set some numbers: {nums}')\n",
    "    adder.vals = nums\n",
    "    logger.debug('getting ready to print answer')\n",
    "    print(adder.answer())  \n",
    "\n",
    "    adjust_handler('Console', 'WARNING')\n",
    "    \n",
    "    logger.debug('this debug should not appear on the console')\n",
    "    logger.info('info should not appear on the console')\n",
    "    logger.warning('warning! should appear everywhere')\n",
    "    logger.error('error should appear everywhere')\n"
   ]
  },
  {
   "cell_type": "code",
   "execution_count": 20,
   "metadata": {},
   "outputs": [
    {
     "name": "stderr",
     "output_type": "stream",
     "text": [
      "2020.06.30 21:04.18 <ipython-input-19-d113daaa945e> FUNC:main - WARNING:warnings should appear in the file log now\n",
      "2020.06.30 21:04.18 <ipython-input-5-0883a3cfec1a> FUNC:helper_func - ERROR:This is an error\n",
      "2020.06.30 21:04.18 <ipython-input-5-0883a3cfec1a> FUNC:helper_func - WARNING:this is a warning\n",
      "2020.06.30 21:04.18 my_math FUNC:vals - WARNING:no values were set. Setting to default of []\n",
      "2020.06.30 21:04.18 <ipython-input-19-d113daaa945e> FUNC:main - ERROR:**************************************************\n",
      "2020.06.30 21:04.18 <ipython-input-19-d113daaa945e> FUNC:main - ERROR:do the same thing again, but change the root logger to \"DEBUG\" and the local logger to \"WARNING\"\n",
      "2020.06.30 21:04.18 my_math FUNC:vals - WARNING:no values were set. Setting to default of []\n",
      "2020.06.30 21:04.18 <ipython-input-10-633edb1beae2> FUNC:adjust_handler - WARNING:handler: \"Console\" not found\n",
      "2020.06.30 21:04.18 <ipython-input-19-d113daaa945e> FUNC:main - WARNING:warning! should appear everywhere\n",
      "2020.06.30 21:04.18 <ipython-input-19-d113daaa945e> FUNC:main - ERROR:error should appear everywhere\n"
     ]
    },
    {
     "name": "stdout",
     "output_type": "stream",
     "text": [
      "339.4\n",
      "\n",
      "\n",
      "\n",
      "\n",
      "339.4\n"
     ]
    }
   ],
   "source": [
    "logger = main()"
   ]
  },
  {
   "cell_type": "markdown",
   "metadata": {},
   "source": [
    "\n",
    "2020.06.30 12:54.06 root:vals INFO:no values were set. Setting to default of []\n",
    "2020.06.30 12:54.06 module_a.math:vals INFO:checking each value for type\n",
    "2020.06.30 12:54.06 root:main INFO:getting ready to set some numbers: [1, 345, 23, 3.4, 66, 1, -100]\n",
    "2020.06.30 12:54.06 module_a.math:vals INFO:checking each value for type\n",
    "2020.06.30 12:54.06 module_a.math:answer INFO:getting total\n",
    "2020.06.30 12:54.06 root:main INFO:switching log level to \"WARNING\".\n",
    "2020.06.30 12:54.06 root:main ERROR:this will display!"
   ]
  },
  {
   "cell_type": "code",
   "execution_count": null,
   "metadata": {},
   "outputs": [],
   "source": [
    "for index, val in enumerate(logging.getLogger().handlers):\n",
    "    if 'Stream' in str(val):\n",
    "        console_handler = logging.getLogger().handlers[index]\n",
    "\n",
    "console_handler.setLevel(\"WARNING\")"
   ]
  },
  {
   "cell_type": "code",
   "execution_count": null,
   "metadata": {},
   "outputs": [],
   "source": []
  }
 ],
 "metadata": {
  "kernelspec": {
   "display_name": "Python 3",
   "language": "python",
   "name": "python3"
  },
  "language_info": {
   "codemirror_mode": {
    "name": "ipython",
    "version": 3
   },
   "file_extension": ".py",
   "mimetype": "text/x-python",
   "name": "python",
   "nbconvert_exporter": "python",
   "pygments_lexer": "ipython3",
   "version": "3.7.7"
  }
 },
 "nbformat": 4,
 "nbformat_minor": 2
}
