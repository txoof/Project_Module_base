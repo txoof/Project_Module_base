{
 "cells": [
  {
   "cell_type": "code",
   "execution_count": 1,
   "metadata": {},
   "outputs": [],
   "source": [
    "from module_a import math\n",
    "import logging"
   ]
  },
  {
   "cell_type": "code",
   "execution_count": 2,
   "metadata": {},
   "outputs": [],
   "source": [
    "# do basic configuration of the logger\n",
    "logging.basicConfig(level=logging.DEBUG, format='%(asctime)s LOGGER:%(name)s FUNC:%(funcName)s %(levelname)s:%(message)s',\n",
    "               datefmt='%Y.%m.%d %H:%M.%S')"
   ]
  },
  {
   "cell_type": "code",
   "execution_count": 3,
   "metadata": {},
   "outputs": [],
   "source": [
    "# # set the basic logging configuration\n",
    "# logging.basicConfig(level=logging.DEBUG, format='%(asctime)s %(name)s:%(funcName)s %(levelname)s:%(message)s',\n",
    "#                    datefmt='%Y.%m.%d %H:%M.%S')\n",
    "# # set the root logger to only pass WARNING or higher\n",
    "# logging.root.setLevel('INFO')\n",
    "# # create a logger for this program\n",
    "# logger = logging.getLogger(__name__)\n",
    "# # set the logger for this program to only pass DEBUG or higher\n",
    "# logger.setLevel('DEBUG')"
   ]
  },
  {
   "cell_type": "code",
   "execution_count": 19,
   "metadata": {},
   "outputs": [],
   "source": [
    "def main():\n",
    "    \n",
    "    # set a logger for this program\n",
    "    logger = logging.getLogger(__name__)\n",
    "    \n",
    "    # set the log level for the root logger - this will affect all of the other child loggers\n",
    "    # that are pulled from other modules loaded through imports\n",
    "    logger.root.setLevel('WARNING')\n",
    "    \n",
    "    # set the log level for this particular logger\n",
    "    logger.setLevel('DEBUG')\n",
    "    \n",
    "    logger.debug('starting up')\n",
    "    logging.debug('starting up (this will only print if the root logger is set to \"debug\")')\n",
    "    \n",
    "    # send log messages to the logger for this program\n",
    "    logger.info('this should display at info level or higher')\n",
    "    \n",
    "    nums = [1, 345, 23, 3.4, 66, 1, -100]\n",
    "    logger.debug(f'creating adder')\n",
    "    adder = math.adder()\n",
    "    logger.info(f'getting ready to set some numbers: {nums}')\n",
    "    adder.vals = nums\n",
    "    logger.debug('getting ready to print answer')\n",
    "    print(adder.answer())\n",
    "    \n",
    "    logger.error('*'*50)\n",
    "    print('\\n'*3)\n",
    "    logger.error('do the same thing again, but change the root logger to \"DEBUG\" and the local logger to \"WARNING\"')\n",
    "    logger.root.setLevel(\"DEBUG\")\n",
    "    logger.setLevel(\"WARNING\")\n",
    "    \n",
    "    logger.debug('starting up')\n",
    "    logging.debug('starting up (this will only print if the root logger is set to \"debug\")')\n",
    "    \n",
    "    # send log messages to the logger for this program\n",
    "    logger.info('this should display at info level or higher')\n",
    "    \n",
    "    nums = [1, 345, 23, 3.4, 66, 1, -100]\n",
    "    logger.debug(f'creating adder')\n",
    "    adder = math.adder()\n",
    "    logger.info(f'getting ready to set some numbers: {nums}')\n",
    "    adder.vals = nums\n",
    "    logger.debug('getting ready to print answer')\n",
    "    print(adder.answer())    \n",
    "    "
   ]
  },
  {
   "cell_type": "code",
   "execution_count": 20,
   "metadata": {},
   "outputs": [
    {
     "name": "stderr",
     "output_type": "stream",
     "text": [
      "2020.06.30 13:37.15 LOGGER:__main__ FUNC:main DEBUG:starting up\n",
      "2020.06.30 13:37.15 LOGGER:__main__ FUNC:main INFO:this should display at info level or higher\n",
      "2020.06.30 13:37.15 LOGGER:__main__ FUNC:main DEBUG:creating adder\n",
      "2020.06.30 13:37.15 LOGGER:root FUNC:vals WARNING:no values were set. Setting to default of []\n",
      "2020.06.30 13:37.15 LOGGER:__main__ FUNC:main INFO:getting ready to set some numbers: [1, 345, 23, 3.4, 66, 1, -100]\n",
      "2020.06.30 13:37.15 LOGGER:__main__ FUNC:main DEBUG:getting ready to print answer\n",
      "2020.06.30 13:37.15 LOGGER:__main__ FUNC:main ERROR:**************************************************\n",
      "2020.06.30 13:37.15 LOGGER:__main__ FUNC:main ERROR:do the same thing again, but change the root logger to \"DEBUG\" and the local logger to \"WARNING\"\n",
      "2020.06.30 13:37.15 LOGGER:root FUNC:main DEBUG:starting up (this will only print if the root logger is set to \"debug\")\n",
      "2020.06.30 13:37.15 LOGGER:root FUNC:vals WARNING:no values were set. Setting to default of []\n",
      "2020.06.30 13:37.15 LOGGER:module_a.math FUNC:vals DEBUG:values: []\n",
      "2020.06.30 13:37.15 LOGGER:module_a.math FUNC:vals DEBUG:checking type of `vals`\n",
      "2020.06.30 13:37.15 LOGGER:module_a.math FUNC:vals INFO:checking each value for type\n",
      "2020.06.30 13:37.15 LOGGER:module_a.math FUNC:vals DEBUG:values: [1, 345, 23, 3.4, 66, 1, -100]\n",
      "2020.06.30 13:37.15 LOGGER:module_a.math FUNC:vals DEBUG:checking type of `vals`\n",
      "2020.06.30 13:37.15 LOGGER:module_a.math FUNC:vals INFO:checking each value for type\n",
      "2020.06.30 13:37.15 LOGGER:module_a.math FUNC:vals DEBUG:checking: 1\n",
      "2020.06.30 13:37.15 LOGGER:module_a.math FUNC:vals DEBUG:ok\n",
      "2020.06.30 13:37.15 LOGGER:module_a.math FUNC:vals DEBUG:checking: 345\n",
      "2020.06.30 13:37.15 LOGGER:module_a.math FUNC:vals DEBUG:ok\n",
      "2020.06.30 13:37.15 LOGGER:module_a.math FUNC:vals DEBUG:checking: 23\n",
      "2020.06.30 13:37.15 LOGGER:module_a.math FUNC:vals DEBUG:ok\n",
      "2020.06.30 13:37.15 LOGGER:module_a.math FUNC:vals DEBUG:checking: 3.4\n",
      "2020.06.30 13:37.15 LOGGER:module_a.math FUNC:vals DEBUG:ok\n",
      "2020.06.30 13:37.15 LOGGER:module_a.math FUNC:vals DEBUG:checking: 66\n",
      "2020.06.30 13:37.15 LOGGER:module_a.math FUNC:vals DEBUG:ok\n",
      "2020.06.30 13:37.15 LOGGER:module_a.math FUNC:vals DEBUG:checking: 1\n",
      "2020.06.30 13:37.15 LOGGER:module_a.math FUNC:vals DEBUG:ok\n",
      "2020.06.30 13:37.15 LOGGER:module_a.math FUNC:vals DEBUG:checking: -100\n",
      "2020.06.30 13:37.15 LOGGER:module_a.math FUNC:vals DEBUG:ok\n",
      "2020.06.30 13:37.15 LOGGER:module_a.math FUNC:answer INFO:getting total\n",
      "2020.06.30 13:37.15 LOGGER:module_a.math FUNC:answer DEBUG:adding each value\n",
      "2020.06.30 13:37.15 LOGGER:module_a.math FUNC:answer DEBUG:running total: 1\n",
      "2020.06.30 13:37.15 LOGGER:module_a.math FUNC:answer DEBUG:running total: 346\n",
      "2020.06.30 13:37.15 LOGGER:module_a.math FUNC:answer DEBUG:running total: 369\n",
      "2020.06.30 13:37.15 LOGGER:module_a.math FUNC:answer DEBUG:running total: 372.4\n",
      "2020.06.30 13:37.15 LOGGER:module_a.math FUNC:answer DEBUG:running total: 438.4\n",
      "2020.06.30 13:37.15 LOGGER:module_a.math FUNC:answer DEBUG:running total: 439.4\n",
      "2020.06.30 13:37.15 LOGGER:module_a.math FUNC:answer DEBUG:running total: 339.4\n"
     ]
    },
    {
     "name": "stdout",
     "output_type": "stream",
     "text": [
      "339.4\n",
      "\n",
      "\n",
      "\n",
      "\n",
      "339.4\n"
     ]
    }
   ],
   "source": [
    "main()"
   ]
  },
  {
   "cell_type": "markdown",
   "metadata": {},
   "source": [
    "2020.06.30 12:54.06 root:vals INFO:no values were set. Setting to default of []\n",
    "2020.06.30 12:54.06 module_a.math:vals INFO:checking each value for type\n",
    "2020.06.30 12:54.06 root:main INFO:getting ready to set some numbers: [1, 345, 23, 3.4, 66, 1, -100]\n",
    "2020.06.30 12:54.06 module_a.math:vals INFO:checking each value for type\n",
    "2020.06.30 12:54.06 module_a.math:answer INFO:getting total\n",
    "2020.06.30 12:54.06 root:main INFO:switching log level to \"WARNING\".\n",
    "2020.06.30 12:54.06 root:main ERROR:this will display!"
   ]
  },
  {
   "cell_type": "code",
   "execution_count": null,
   "metadata": {},
   "outputs": [],
   "source": []
  }
 ],
 "metadata": {
  "kernelspec": {
   "display_name": "Python 3",
   "language": "python",
   "name": "python3"
  },
  "language_info": {
   "codemirror_mode": {
    "name": "ipython",
    "version": 3
   },
   "file_extension": ".py",
   "mimetype": "text/x-python",
   "name": "python",
   "nbconvert_exporter": "python",
   "pygments_lexer": "ipython3",
   "version": "3.7.7"
  }
 },
 "nbformat": 4,
 "nbformat_minor": 2
}
